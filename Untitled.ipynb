{
 "cells": [
  {
   "cell_type": "code",
   "execution_count": 3,
   "id": "dab4a3dc",
   "metadata": {},
   "outputs": [],
   "source": [
    "import yfinance as yf"
   ]
  },
  {
   "cell_type": "code",
   "execution_count": 4,
   "id": "7d45beb8",
   "metadata": {},
   "outputs": [
    {
     "name": "stdout",
     "output_type": "stream",
     "text": [
      "3.43.2\n"
     ]
    }
   ],
   "source": [
    "import sqlite3\n",
    "print(sqlite3.sqlite_version)"
   ]
  },
  {
   "cell_type": "code",
   "execution_count": 5,
   "id": "fb3fcd6e",
   "metadata": {},
   "outputs": [
    {
     "name": "stdout",
     "output_type": "stream",
     "text": [
      "YF.download() has changed argument auto_adjust default to True\n"
     ]
    },
    {
     "name": "stderr",
     "output_type": "stream",
     "text": [
      "[*********************100%***********************]  1 of 1 completed\n"
     ]
    }
   ],
   "source": [
    "btc_data= yf.download(\"BTC-USD\", start=\"2023-01-01\", end=\"2025-01-01\", interval=\"1d\")"
   ]
  },
  {
   "cell_type": "code",
   "execution_count": 6,
   "id": "bd0922b3",
   "metadata": {},
   "outputs": [
    {
     "name": "stdout",
     "output_type": "stream",
     "text": [
      "Price              Close          High           Low          Open  \\\n",
      "Ticker           BTC-USD       BTC-USD       BTC-USD       BTC-USD   \n",
      "Date                                                                 \n",
      "2023-01-01  16625.080078  16630.439453  16521.234375  16547.914062   \n",
      "2023-01-02  16688.470703  16759.343750  16572.228516  16625.509766   \n",
      "2023-01-03  16679.857422  16760.447266  16622.371094  16688.847656   \n",
      "2023-01-04  16863.238281  16964.585938  16667.763672  16680.205078   \n",
      "2023-01-05  16836.736328  16884.021484  16790.283203  16863.472656   \n",
      "\n",
      "Price            Volume  \n",
      "Ticker          BTC-USD  \n",
      "Date                     \n",
      "2023-01-01   9244361700  \n",
      "2023-01-02  12097775227  \n",
      "2023-01-03  13903079207  \n",
      "2023-01-04  18421743322  \n",
      "2023-01-05  13692758566  \n"
     ]
    }
   ],
   "source": [
    "print(btc_data.head())"
   ]
  },
  {
   "cell_type": "code",
   "execution_count": null,
   "id": "bb5dee10",
   "metadata": {},
   "outputs": [],
   "source": []
  }
 ],
 "metadata": {
  "kernelspec": {
   "display_name": "bitcoin_env",
   "language": "python",
   "name": "python3"
  },
  "language_info": {
   "codemirror_mode": {
    "name": "ipython",
    "version": 3
   },
   "file_extension": ".py",
   "mimetype": "text/x-python",
   "name": "python",
   "nbconvert_exporter": "python",
   "pygments_lexer": "ipython3",
   "version": "3.9.6"
  }
 },
 "nbformat": 4,
 "nbformat_minor": 5
}
