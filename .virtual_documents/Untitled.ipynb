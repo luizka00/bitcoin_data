import yfinance as yf

# Download historical data
btc_data = yf.download("BTC-USD", start="2023-01-01", end="2025-01-01", interval="1d")

# Preview data
print(btc_data.head())




